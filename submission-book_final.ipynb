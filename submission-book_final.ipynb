{
 "cells": [
  {
   "cell_type": "code",
   "execution_count": 67,
   "metadata": {
    "_cell_guid": "b1076dfc-b9ad-4769-8c92-a6c4dae69d19",
    "_uuid": "8f2839f25d086af736a60e9eeb907d3b93b6e0e5",
    "execution": {
     "iopub.execute_input": "2025-06-11T15:15:02.761894Z",
     "iopub.status.busy": "2025-06-11T15:15:02.761497Z",
     "iopub.status.idle": "2025-06-11T15:15:02.770300Z",
     "shell.execute_reply": "2025-06-11T15:15:02.769543Z",
     "shell.execute_reply.started": "2025-06-11T15:15:02.761853Z"
    },
    "trusted": true
   },
   "outputs": [
    {
     "name": "stdout",
     "output_type": "stream",
     "text": [
      "/kaggle/input/summer-analytics-mid-hackathon/hacktest.csv\n",
      "/kaggle/input/summer-analytics-mid-hackathon/hacktrain.csv\n"
     ]
    }
   ],
   "source": [
    "# This Python 3 environment comes with many helpful analytics libraries installed\n",
    "# It is defined by the kaggle/python Docker image: https://github.com/kaggle/docker-python\n",
    "# For example, here's several helpful packages to load\n",
    "\n",
    "import numpy as np # linear algebra\n",
    "import pandas as pd # data processing, CSV file I/O (e.g. pd.read_csv)\n",
    "import seaborn as sns\n",
    "import matplotlib.pyplot as plt\n",
    "# Input data files are available in the read-only \"../input/\" directory\n",
    "# For example, running this (by clicking run or pressing Shift+Enter) will list all files under the input directory\n",
    "\n",
    "import os\n",
    "for dirname, _, filenames in os.walk('/kaggle/input'):\n",
    "    for filename in filenames:\n",
    "        print(os.path.join(dirname, filename))\n",
    "\n",
    "# You can write up to 20GB to the current directory (/kaggle/working/) that gets preserved as output when you create a version using \"Save & Run All\" \n",
    "# You can also write temporary files to /kaggle/temp/, but they won't be saved outside of the current session"
   ]
  },
  {
   "cell_type": "code",
   "execution_count": 68,
   "metadata": {
    "execution": {
     "iopub.execute_input": "2025-06-11T15:15:02.772159Z",
     "iopub.status.busy": "2025-06-11T15:15:02.771827Z",
     "iopub.status.idle": "2025-06-11T15:15:02.846482Z",
     "shell.execute_reply": "2025-06-11T15:15:02.845770Z",
     "shell.execute_reply.started": "2025-06-11T15:15:02.772131Z"
    },
    "trusted": true
   },
   "outputs": [
    {
     "name": "stderr",
     "output_type": "stream",
     "text": [
      "/usr/local/lib/python3.11/dist-packages/pandas/io/formats/format.py:1458: RuntimeWarning: invalid value encountered in greater\n",
      "  has_large_values = (abs_vals > 1e6).any()\n",
      "/usr/local/lib/python3.11/dist-packages/pandas/io/formats/format.py:1459: RuntimeWarning: invalid value encountered in less\n",
      "  has_small_values = ((abs_vals < 10 ** (-self.digits)) & (abs_vals > 0)).any()\n",
      "/usr/local/lib/python3.11/dist-packages/pandas/io/formats/format.py:1459: RuntimeWarning: invalid value encountered in greater\n",
      "  has_small_values = ((abs_vals < 10 ** (-self.digits)) & (abs_vals > 0)).any()\n",
      "/usr/local/lib/python3.11/dist-packages/pandas/io/formats/format.py:1458: RuntimeWarning: invalid value encountered in greater\n",
      "  has_large_values = (abs_vals > 1e6).any()\n",
      "/usr/local/lib/python3.11/dist-packages/pandas/io/formats/format.py:1459: RuntimeWarning: invalid value encountered in less\n",
      "  has_small_values = ((abs_vals < 10 ** (-self.digits)) & (abs_vals > 0)).any()\n",
      "/usr/local/lib/python3.11/dist-packages/pandas/io/formats/format.py:1459: RuntimeWarning: invalid value encountered in greater\n",
      "  has_small_values = ((abs_vals < 10 ** (-self.digits)) & (abs_vals > 0)).any()\n"
     ]
    },
    {
     "data": {
      "text/html": [
       "<div>\n",
       "<style scoped>\n",
       "    .dataframe tbody tr th:only-of-type {\n",
       "        vertical-align: middle;\n",
       "    }\n",
       "\n",
       "    .dataframe tbody tr th {\n",
       "        vertical-align: top;\n",
       "    }\n",
       "\n",
       "    .dataframe thead th {\n",
       "        text-align: right;\n",
       "    }\n",
       "</style>\n",
       "<table border=\"1\" class=\"dataframe\">\n",
       "  <thead>\n",
       "    <tr style=\"text-align: right;\">\n",
       "      <th></th>\n",
       "      <th>Unnamed: 0</th>\n",
       "      <th>ID</th>\n",
       "      <th>class</th>\n",
       "      <th>20150720_N</th>\n",
       "      <th>20150602_N</th>\n",
       "      <th>20150517_N</th>\n",
       "      <th>20150501_N</th>\n",
       "      <th>20150415_N</th>\n",
       "      <th>20150330_N</th>\n",
       "      <th>20150314_N</th>\n",
       "      <th>...</th>\n",
       "      <th>20140610_N</th>\n",
       "      <th>20140525_N</th>\n",
       "      <th>20140509_N</th>\n",
       "      <th>20140423_N</th>\n",
       "      <th>20140407_N</th>\n",
       "      <th>20140322_N</th>\n",
       "      <th>20140218_N</th>\n",
       "      <th>20140202_N</th>\n",
       "      <th>20140117_N</th>\n",
       "      <th>20140101_N</th>\n",
       "    </tr>\n",
       "  </thead>\n",
       "  <tbody>\n",
       "    <tr>\n",
       "      <th>0</th>\n",
       "      <td>0</td>\n",
       "      <td>1</td>\n",
       "      <td>water</td>\n",
       "      <td>637.5950</td>\n",
       "      <td>658.668</td>\n",
       "      <td>-1882.030</td>\n",
       "      <td>-1924.36</td>\n",
       "      <td>997.904</td>\n",
       "      <td>-1739.990</td>\n",
       "      <td>630.087</td>\n",
       "      <td>...</td>\n",
       "      <td>NaN</td>\n",
       "      <td>-1043.160</td>\n",
       "      <td>-1942.490</td>\n",
       "      <td>267.138</td>\n",
       "      <td>NaN</td>\n",
       "      <td>NaN</td>\n",
       "      <td>211.328</td>\n",
       "      <td>-2203.020</td>\n",
       "      <td>-1180.19</td>\n",
       "      <td>433.906</td>\n",
       "    </tr>\n",
       "    <tr>\n",
       "      <th>1</th>\n",
       "      <td>1</td>\n",
       "      <td>2</td>\n",
       "      <td>water</td>\n",
       "      <td>634.2400</td>\n",
       "      <td>593.705</td>\n",
       "      <td>-1625.790</td>\n",
       "      <td>-1672.32</td>\n",
       "      <td>914.198</td>\n",
       "      <td>-692.386</td>\n",
       "      <td>707.626</td>\n",
       "      <td>...</td>\n",
       "      <td>NaN</td>\n",
       "      <td>-933.934</td>\n",
       "      <td>-625.385</td>\n",
       "      <td>120.059</td>\n",
       "      <td>364.858</td>\n",
       "      <td>476.972</td>\n",
       "      <td>220.878</td>\n",
       "      <td>-2250.000</td>\n",
       "      <td>-1360.56</td>\n",
       "      <td>524.075</td>\n",
       "    </tr>\n",
       "    <tr>\n",
       "      <th>2</th>\n",
       "      <td>3</td>\n",
       "      <td>4</td>\n",
       "      <td>water</td>\n",
       "      <td>58.0174</td>\n",
       "      <td>-1599.160</td>\n",
       "      <td>NaN</td>\n",
       "      <td>-1052.63</td>\n",
       "      <td>NaN</td>\n",
       "      <td>-1564.630</td>\n",
       "      <td>NaN</td>\n",
       "      <td>...</td>\n",
       "      <td>-1025.880</td>\n",
       "      <td>368.622</td>\n",
       "      <td>NaN</td>\n",
       "      <td>-1227.800</td>\n",
       "      <td>304.621</td>\n",
       "      <td>NaN</td>\n",
       "      <td>369.214</td>\n",
       "      <td>-2202.120</td>\n",
       "      <td>NaN</td>\n",
       "      <td>-1343.550</td>\n",
       "    </tr>\n",
       "    <tr>\n",
       "      <th>3</th>\n",
       "      <td>4</td>\n",
       "      <td>5</td>\n",
       "      <td>water</td>\n",
       "      <td>72.5180</td>\n",
       "      <td>NaN</td>\n",
       "      <td>380.436</td>\n",
       "      <td>-1256.93</td>\n",
       "      <td>515.805</td>\n",
       "      <td>-1413.180</td>\n",
       "      <td>-802.942</td>\n",
       "      <td>...</td>\n",
       "      <td>-1813.950</td>\n",
       "      <td>155.624</td>\n",
       "      <td>NaN</td>\n",
       "      <td>-924.073</td>\n",
       "      <td>432.150</td>\n",
       "      <td>282.833</td>\n",
       "      <td>298.320</td>\n",
       "      <td>-2197.360</td>\n",
       "      <td>NaN</td>\n",
       "      <td>-826.727</td>\n",
       "    </tr>\n",
       "    <tr>\n",
       "      <th>4</th>\n",
       "      <td>7</td>\n",
       "      <td>8</td>\n",
       "      <td>water</td>\n",
       "      <td>1136.4400</td>\n",
       "      <td>NaN</td>\n",
       "      <td>NaN</td>\n",
       "      <td>1647.83</td>\n",
       "      <td>1935.800</td>\n",
       "      <td>NaN</td>\n",
       "      <td>2158.980</td>\n",
       "      <td>...</td>\n",
       "      <td>1535.000</td>\n",
       "      <td>1959.430</td>\n",
       "      <td>-279.317</td>\n",
       "      <td>-384.915</td>\n",
       "      <td>-113.406</td>\n",
       "      <td>1020.720</td>\n",
       "      <td>1660.650</td>\n",
       "      <td>-116.801</td>\n",
       "      <td>-568.05</td>\n",
       "      <td>-1357.140</td>\n",
       "    </tr>\n",
       "    <tr>\n",
       "      <th>...</th>\n",
       "      <td>...</td>\n",
       "      <td>...</td>\n",
       "      <td>...</td>\n",
       "      <td>...</td>\n",
       "      <td>...</td>\n",
       "      <td>...</td>\n",
       "      <td>...</td>\n",
       "      <td>...</td>\n",
       "      <td>...</td>\n",
       "      <td>...</td>\n",
       "      <td>...</td>\n",
       "      <td>...</td>\n",
       "      <td>...</td>\n",
       "      <td>...</td>\n",
       "      <td>...</td>\n",
       "      <td>...</td>\n",
       "      <td>...</td>\n",
       "      <td>...</td>\n",
       "      <td>...</td>\n",
       "      <td>...</td>\n",
       "      <td>...</td>\n",
       "    </tr>\n",
       "    <tr>\n",
       "      <th>7995</th>\n",
       "      <td>10537</td>\n",
       "      <td>10538</td>\n",
       "      <td>impervious</td>\n",
       "      <td>1207.7000</td>\n",
       "      <td>984.620</td>\n",
       "      <td>NaN</td>\n",
       "      <td>1166.25</td>\n",
       "      <td>937.478</td>\n",
       "      <td>1072.700</td>\n",
       "      <td>823.896</td>\n",
       "      <td>...</td>\n",
       "      <td>1117.740</td>\n",
       "      <td>1176.600</td>\n",
       "      <td>1044.110</td>\n",
       "      <td>NaN</td>\n",
       "      <td>369.082</td>\n",
       "      <td>465.843</td>\n",
       "      <td>362.882</td>\n",
       "      <td>979.795</td>\n",
       "      <td>NaN</td>\n",
       "      <td>433.659</td>\n",
       "    </tr>\n",
       "    <tr>\n",
       "      <th>7996</th>\n",
       "      <td>10538</td>\n",
       "      <td>10539</td>\n",
       "      <td>impervious</td>\n",
       "      <td>2170.3500</td>\n",
       "      <td>1419.720</td>\n",
       "      <td>1361.000</td>\n",
       "      <td>1478.71</td>\n",
       "      <td>983.911</td>\n",
       "      <td>1262.110</td>\n",
       "      <td>1422.860</td>\n",
       "      <td>...</td>\n",
       "      <td>984.634</td>\n",
       "      <td>2128.970</td>\n",
       "      <td>1379.660</td>\n",
       "      <td>NaN</td>\n",
       "      <td>762.633</td>\n",
       "      <td>485.204</td>\n",
       "      <td>446.724</td>\n",
       "      <td>771.747</td>\n",
       "      <td>1589.06</td>\n",
       "      <td>506.936</td>\n",
       "    </tr>\n",
       "    <tr>\n",
       "      <th>7997</th>\n",
       "      <td>10541</td>\n",
       "      <td>10542</td>\n",
       "      <td>impervious</td>\n",
       "      <td>1895.6800</td>\n",
       "      <td>1454.740</td>\n",
       "      <td>NaN</td>\n",
       "      <td>1033.56</td>\n",
       "      <td>1930.380</td>\n",
       "      <td>1057.150</td>\n",
       "      <td>1471.600</td>\n",
       "      <td>...</td>\n",
       "      <td>888.408</td>\n",
       "      <td>2093.020</td>\n",
       "      <td>1232.110</td>\n",
       "      <td>1190.830</td>\n",
       "      <td>1441.460</td>\n",
       "      <td>1170.880</td>\n",
       "      <td>1095.000</td>\n",
       "      <td>1818.650</td>\n",
       "      <td>2501.72</td>\n",
       "      <td>1247.770</td>\n",
       "    </tr>\n",
       "    <tr>\n",
       "      <th>7998</th>\n",
       "      <td>10542</td>\n",
       "      <td>10543</td>\n",
       "      <td>impervious</td>\n",
       "      <td>3465.7400</td>\n",
       "      <td>1283.320</td>\n",
       "      <td>413.412</td>\n",
       "      <td>4391.05</td>\n",
       "      <td>1146.820</td>\n",
       "      <td>4473.050</td>\n",
       "      <td>1614.750</td>\n",
       "      <td>...</td>\n",
       "      <td>5833.760</td>\n",
       "      <td>4047.320</td>\n",
       "      <td>4515.800</td>\n",
       "      <td>433.177</td>\n",
       "      <td>277.296</td>\n",
       "      <td>744.143</td>\n",
       "      <td>NaN</td>\n",
       "      <td>3759.710</td>\n",
       "      <td>NaN</td>\n",
       "      <td>388.346</td>\n",
       "    </tr>\n",
       "    <tr>\n",
       "      <th>7999</th>\n",
       "      <td>10544</td>\n",
       "      <td>10545</td>\n",
       "      <td>impervious</td>\n",
       "      <td>6941.1900</td>\n",
       "      <td>1667.870</td>\n",
       "      <td>5084.780</td>\n",
       "      <td>NaN</td>\n",
       "      <td>1588.950</td>\n",
       "      <td>5978.190</td>\n",
       "      <td>NaN</td>\n",
       "      <td>...</td>\n",
       "      <td>7352.570</td>\n",
       "      <td>3289.860</td>\n",
       "      <td>3729.150</td>\n",
       "      <td>1994.980</td>\n",
       "      <td>NaN</td>\n",
       "      <td>5299.900</td>\n",
       "      <td>NaN</td>\n",
       "      <td>5983.130</td>\n",
       "      <td>1249.71</td>\n",
       "      <td>2424.230</td>\n",
       "    </tr>\n",
       "  </tbody>\n",
       "</table>\n",
       "<p>8000 rows × 30 columns</p>\n",
       "</div>"
      ],
      "text/plain": [
       "      Unnamed: 0     ID       class  20150720_N  20150602_N  20150517_N  \\\n",
       "0              0      1       water    637.5950     658.668   -1882.030   \n",
       "1              1      2       water    634.2400     593.705   -1625.790   \n",
       "2              3      4       water     58.0174   -1599.160         NaN   \n",
       "3              4      5       water     72.5180         NaN     380.436   \n",
       "4              7      8       water   1136.4400         NaN         NaN   \n",
       "...          ...    ...         ...         ...         ...         ...   \n",
       "7995       10537  10538  impervious   1207.7000     984.620         NaN   \n",
       "7996       10538  10539  impervious   2170.3500    1419.720    1361.000   \n",
       "7997       10541  10542  impervious   1895.6800    1454.740         NaN   \n",
       "7998       10542  10543  impervious   3465.7400    1283.320     413.412   \n",
       "7999       10544  10545  impervious   6941.1900    1667.870    5084.780   \n",
       "\n",
       "      20150501_N  20150415_N  20150330_N  20150314_N  ...  20140610_N  \\\n",
       "0       -1924.36     997.904   -1739.990     630.087  ...         NaN   \n",
       "1       -1672.32     914.198    -692.386     707.626  ...         NaN   \n",
       "2       -1052.63         NaN   -1564.630         NaN  ...   -1025.880   \n",
       "3       -1256.93     515.805   -1413.180    -802.942  ...   -1813.950   \n",
       "4        1647.83    1935.800         NaN    2158.980  ...    1535.000   \n",
       "...          ...         ...         ...         ...  ...         ...   \n",
       "7995     1166.25     937.478    1072.700     823.896  ...    1117.740   \n",
       "7996     1478.71     983.911    1262.110    1422.860  ...     984.634   \n",
       "7997     1033.56    1930.380    1057.150    1471.600  ...     888.408   \n",
       "7998     4391.05    1146.820    4473.050    1614.750  ...    5833.760   \n",
       "7999         NaN    1588.950    5978.190         NaN  ...    7352.570   \n",
       "\n",
       "      20140525_N  20140509_N  20140423_N  20140407_N  20140322_N  20140218_N  \\\n",
       "0      -1043.160   -1942.490     267.138         NaN         NaN     211.328   \n",
       "1       -933.934    -625.385     120.059     364.858     476.972     220.878   \n",
       "2        368.622         NaN   -1227.800     304.621         NaN     369.214   \n",
       "3        155.624         NaN    -924.073     432.150     282.833     298.320   \n",
       "4       1959.430    -279.317    -384.915    -113.406    1020.720    1660.650   \n",
       "...          ...         ...         ...         ...         ...         ...   \n",
       "7995    1176.600    1044.110         NaN     369.082     465.843     362.882   \n",
       "7996    2128.970    1379.660         NaN     762.633     485.204     446.724   \n",
       "7997    2093.020    1232.110    1190.830    1441.460    1170.880    1095.000   \n",
       "7998    4047.320    4515.800     433.177     277.296     744.143         NaN   \n",
       "7999    3289.860    3729.150    1994.980         NaN    5299.900         NaN   \n",
       "\n",
       "      20140202_N  20140117_N  20140101_N  \n",
       "0      -2203.020    -1180.19     433.906  \n",
       "1      -2250.000    -1360.56     524.075  \n",
       "2      -2202.120         NaN   -1343.550  \n",
       "3      -2197.360         NaN    -826.727  \n",
       "4       -116.801     -568.05   -1357.140  \n",
       "...          ...         ...         ...  \n",
       "7995     979.795         NaN     433.659  \n",
       "7996     771.747     1589.06     506.936  \n",
       "7997    1818.650     2501.72    1247.770  \n",
       "7998    3759.710         NaN     388.346  \n",
       "7999    5983.130     1249.71    2424.230  \n",
       "\n",
       "[8000 rows x 30 columns]"
      ]
     },
     "execution_count": 68,
     "metadata": {},
     "output_type": "execute_result"
    }
   ],
   "source": [
    "df = pd.read_csv(\"/kaggle/input/summer-analytics-mid-hackathon/hacktrain.csv\")\n",
    "df"
   ]
  },
  {
   "cell_type": "code",
   "execution_count": null,
   "metadata": {
    "execution": {
     "iopub.execute_input": "2025-06-11T15:15:02.848015Z",
     "iopub.status.busy": "2025-06-11T15:15:02.847661Z",
     "iopub.status.idle": "2025-06-11T15:15:03.034420Z",
     "shell.execute_reply": "2025-06-11T15:15:03.033494Z",
     "shell.execute_reply.started": "2025-06-11T15:15:02.847986Z"
    },
    "trusted": true
   },
   "outputs": [
    {
     "data": {
      "image/png": "[encoded data removed]",
      "text/plain": [
       "<Figure size 640x480 with 1 Axes>"
      ]
     },
     "metadata": {},
     "output_type": "display_data"
    }
   ],
   "source": [
    "\n",
    "plt.scatter(df['class'], df['20150602_N'])\n",
    "df.isnull().sum()"
   ]
  },
  {
   "cell_type": "code",
   "execution_count": null,
   "metadata": {
    "execution": {
     "iopub.execute_input": "2025-06-11T15:15:03.035762Z",
     "iopub.status.busy": "2025-06-11T15:15:03.035431Z",
     "iopub.status.idle": "2025-06-11T15:15:03.080506Z",
     "shell.execute_reply": "2025-06-11T15:15:03.079578Z",
     "shell.execute_reply.started": "2025-06-11T15:15:03.035735Z"
    },
    "trusted": true
   },
   "outputs": [],
   "source": [
    "# Detecting and removing outliers\n",
    "\n",
    "class_name = list(df['class'].unique())\n",
    "col_name = list(df.columns)\n",
    "col_name.pop(0)\n",
    "col_name.pop(1)\n",
    "\n",
    "for c in class_name :\n",
    "    subset = df[df['class'] == c].loc[:, col_name].dropna()\n",
    "    q1 = subset.quantile(0.25)\n",
    "    q3 = subset.quantile(0.75)\n",
    "    iqr = q3 - q1\n",
    "\n",
    "    inlier = ~((subset < (q1 - 1.5*iqr)) | (subset > (q3 + 1.5*iqr))).any(axis = 1)\n",
    "\n",
    "    df = df.drop(index = subset[~inlier].index)\n",
    "\n",
    "\n",
    "\n",
    "# print(df.isnull().sum())\n",
    "# plt.scatter(df['class'], df['20150602_N'])\n"
   ]
  },
  {
   "cell_type": "code",
   "execution_count": 71,
   "metadata": {
    "execution": {
     "iopub.execute_input": "2025-06-11T15:15:03.083529Z",
     "iopub.status.busy": "2025-06-11T15:15:03.083024Z",
     "iopub.status.idle": "2025-06-11T15:15:10.114951Z",
     "shell.execute_reply": "2025-06-11T15:15:10.113466Z",
     "shell.execute_reply.started": "2025-06-11T15:15:03.083494Z"
    },
    "trusted": true
   },
   "outputs": [
    {
     "name": "stderr",
     "output_type": "stream",
     "text": [
      "/usr/local/lib/python3.11/dist-packages/sklearn/base.py:439: UserWarning: X does not have valid feature names, but StandardScaler was fitted with feature names\n",
      "  warnings.warn(\n"
     ]
    },
    {
     "name": "stdout",
     "output_type": "stream",
     "text": [
      "{'farm': 0, 'forest': 1, 'grass': 2, 'impervious': 3, 'orchard': 4, 'water': 5}\n",
      "              precision    recall  f1-score   support\n",
      "\n",
      "        farm       0.81      0.80      0.80       163\n",
      "      forest       0.98      0.99      0.99      1215\n",
      "       grass       0.64      0.39      0.48        36\n",
      "  impervious       0.87      0.90      0.88       130\n",
      "     orchard       0.75      0.50      0.60         6\n",
      "       water       0.83      0.75      0.79        20\n",
      "\n",
      "    accuracy                           0.95      1570\n",
      "   macro avg       0.81      0.72      0.76      1570\n",
      "weighted avg       0.94      0.95      0.94      1570\n",
      "\n"
     ]
    }
   ],
   "source": [
    "import pandas as pd\n",
    "from sklearn.linear_model import LogisticRegression\n",
    "from sklearn.model_selection import train_test_split\n",
    "from sklearn.preprocessing import LabelEncoder\n",
    "from sklearn.metrics import classification_report\n",
    "from sklearn.impute import KNNImputer\n",
    "from sklearn import preprocessing\n",
    "# Drop ID column\n",
    "df.drop(columns=['ID'], inplace=True)\n",
    "\n",
    "# Encode class column \n",
    "label_encoder = LabelEncoder()\n",
    "df['class'] = label_encoder.fit_transform(df['class'])\n",
    "\n",
    "# Split into features and target\n",
    "X = df.drop(columns=['class'])\n",
    "y = df['class']\n",
    "\n",
    "#Imputing and Scaling the data\n",
    "imputer = KNNImputer(n_neighbors = 2, weights = 'distance')\n",
    "scaler = preprocessing.StandardScaler(with_std = False, with_mean = False).fit(X)\n",
    "X = pd.DataFrame(imputer.fit_transform(X))\n",
    "X_scaled = (scaler.transform(X))\n",
    "\n",
    "print(dict(zip(label_encoder.classes_, range(len(label_encoder.classes_)))))\n",
    "\n",
    "# Train-test split\n",
    "X_train, X_test, y_train, y_test = train_test_split(\n",
    "    X_scaled, y, test_size=0.2, random_state=42, stratify=y)\n",
    "\n",
    "# Fit multinomial logistic regression\n",
    "model = LogisticRegression(\n",
    "    multi_class='multinomial',\n",
    "    solver='lbfgs',\n",
    "    max_iter= 2000\n",
    ")\n",
    "model.fit(X_train, y_train)\n",
    "\n",
    "# Predict on test set\n",
    "y_pred = model.predict(X_test)\n",
    "\n",
    "# Classification report with all original class labels\n",
    "print(classification_report(\n",
    "    y_test,\n",
    "    y_pred,\n",
    "    labels=list(range(len(label_encoder.classes_))),\n",
    "    target_names=label_encoder.classes_\n",
    "))"
   ]
  },
  {
   "cell_type": "code",
   "execution_count": 72,
   "metadata": {
    "execution": {
     "iopub.execute_input": "2025-06-11T15:15:10.116027Z",
     "iopub.status.busy": "2025-06-11T15:15:10.115699Z",
     "iopub.status.idle": "2025-06-11T15:15:10.147665Z",
     "shell.execute_reply": "2025-06-11T15:15:10.147001Z",
     "shell.execute_reply.started": "2025-06-11T15:15:10.115991Z"
    },
    "trusted": true
   },
   "outputs": [
    {
     "data": {
      "text/plain": [
       "Unnamed: 0    0\n",
       "ID            0\n",
       "20150720_N    0\n",
       "20150602_N    0\n",
       "20150517_N    0\n",
       "20150501_N    0\n",
       "20150415_N    0\n",
       "20150330_N    0\n",
       "20150314_N    0\n",
       "20150226_N    0\n",
       "20150210_N    0\n",
       "20150125_N    0\n",
       "20150109_N    0\n",
       "20141117_N    0\n",
       "20141101_N    0\n",
       "20141016_N    0\n",
       "20140930_N    0\n",
       "20140813_N    0\n",
       "20140626_N    0\n",
       "20140610_N    0\n",
       "20140525_N    0\n",
       "20140509_N    0\n",
       "20140423_N    0\n",
       "20140407_N    0\n",
       "20140322_N    0\n",
       "20140218_N    0\n",
       "20140202_N    0\n",
       "20140117_N    0\n",
       "20140101_N    0\n",
       "dtype: int64"
      ]
     },
     "execution_count": 72,
     "metadata": {},
     "output_type": "execute_result"
    }
   ],
   "source": [
    "test_data = pd.read_csv(\"/kaggle/input/summer-analytics-mid-hackathon/hacktest.csv\")\n",
    "test_data.shape\n",
    "test_data.isnull().sum()"
   ]
  },
  {
   "cell_type": "code",
   "execution_count": null,
   "metadata": {
    "execution": {
     "iopub.execute_input": "2025-06-11T15:15:10.149130Z",
     "iopub.status.busy": "2025-06-11T15:15:10.148843Z",
     "iopub.status.idle": "2025-06-11T15:15:10.160568Z",
     "shell.execute_reply": "2025-06-11T15:15:10.159782Z",
     "shell.execute_reply.started": "2025-06-11T15:15:10.149108Z"
    },
    "trusted": true
   },
   "outputs": [],
   "source": [
    "ID=test_data['ID']\n",
    "test_data.drop(['ID'],axis=1,inplace=True)"
   ]
  },
  {
   "cell_type": "code",
   "execution_count": 74,
   "metadata": {
    "execution": {
     "iopub.execute_input": "2025-06-11T15:15:10.165175Z",
     "iopub.status.busy": "2025-06-11T15:15:10.163301Z",
     "iopub.status.idle": "2025-06-11T15:15:10.186787Z",
     "shell.execute_reply": "2025-06-11T15:15:10.185912Z",
     "shell.execute_reply.started": "2025-06-11T15:15:10.165146Z"
    },
    "trusted": true
   },
   "outputs": [],
   "source": [
    "scaler1 = preprocessing.StandardScaler(with_std = False, with_mean = False).fit(test_data)\n",
    "test_data_scaled = scaler1.transform(test_data)\n",
    "y_test = model.predict(test_data_scaled)"
   ]
  },
  {
   "cell_type": "code",
   "execution_count": 75,
   "metadata": {
    "execution": {
     "iopub.execute_input": "2025-06-11T15:15:10.187583Z",
     "iopub.status.busy": "2025-06-11T15:15:10.187365Z",
     "iopub.status.idle": "2025-06-11T15:15:10.205601Z",
     "shell.execute_reply": "2025-06-11T15:15:10.203672Z",
     "shell.execute_reply.started": "2025-06-11T15:15:10.187557Z"
    },
    "trusted": true
   },
   "outputs": [
    {
     "data": {
      "text/plain": [
       "array([1, 1, 1, ..., 3, 3, 3])"
      ]
     },
     "execution_count": 75,
     "metadata": {},
     "output_type": "execute_result"
    }
   ],
   "source": [
    "y_test"
   ]
  },
  {
   "cell_type": "code",
   "execution_count": 76,
   "metadata": {
    "execution": {
     "iopub.execute_input": "2025-06-11T15:15:10.206733Z",
     "iopub.status.busy": "2025-06-11T15:15:10.206514Z",
     "iopub.status.idle": "2025-06-11T15:15:10.221628Z",
     "shell.execute_reply": "2025-06-11T15:15:10.220722Z",
     "shell.execute_reply.started": "2025-06-11T15:15:10.206716Z"
    },
    "trusted": true
   },
   "outputs": [
    {
     "data": {
      "text/plain": [
       "array(['forest', 'forest', 'forest', ..., 'impervious', 'impervious',\n",
       "       'impervious'], dtype=object)"
      ]
     },
     "execution_count": 76,
     "metadata": {},
     "output_type": "execute_result"
    }
   ],
   "source": [
    "y_decoded = label_encoder.inverse_transform(y_test)\n",
    "y_decoded"
   ]
  },
  {
   "cell_type": "code",
   "execution_count": 77,
   "metadata": {
    "execution": {
     "iopub.execute_input": "2025-06-11T15:15:10.222726Z",
     "iopub.status.busy": "2025-06-11T15:15:10.222438Z",
     "iopub.status.idle": "2025-06-11T15:15:10.238793Z",
     "shell.execute_reply": "2025-06-11T15:15:10.237950Z",
     "shell.execute_reply.started": "2025-06-11T15:15:10.222705Z"
    },
    "trusted": true
   },
   "outputs": [],
   "source": [
    "result = pd.DataFrame({\n",
    "    'ID': ID,\n",
    "    'class': y_decoded\n",
    "})"
   ]
  },
  {
   "cell_type": "code",
   "execution_count": 78,
   "metadata": {
    "execution": {
     "iopub.execute_input": "2025-06-11T15:15:10.240018Z",
     "iopub.status.busy": "2025-06-11T15:15:10.239729Z",
     "iopub.status.idle": "2025-06-11T15:15:10.263777Z",
     "shell.execute_reply": "2025-06-11T15:15:10.262978Z",
     "shell.execute_reply.started": "2025-06-11T15:15:10.239998Z"
    },
    "trusted": true
   },
   "outputs": [
    {
     "data": {
      "text/plain": [
       "array(['forest', 'water', 'orchard', 'farm', 'impervious', 'grass'],\n",
       "      dtype=object)"
      ]
     },
     "execution_count": 78,
     "metadata": {},
     "output_type": "execute_result"
    }
   ],
   "source": [
    "result['class'].unique()"
   ]
  },
  {
   "cell_type": "code",
   "execution_count": null,
   "metadata": {
    "execution": {
     "iopub.execute_input": "2025-06-11T15:15:22.354568Z",
     "iopub.status.busy": "2025-06-11T15:15:22.353563Z",
     "iopub.status.idle": "2025-06-11T15:15:22.363403Z",
     "shell.execute_reply": "2025-06-11T15:15:22.362725Z",
     "shell.execute_reply.started": "2025-06-11T15:15:22.354530Z"
    },
    "trusted": true
   },
   "outputs": [],
   "source": [
    "result.to_csv(\"sub11_8.csv\", index=False)"
   ]
  },
  {
   "cell_type": "code",
   "execution_count": null,
   "metadata": {
    "trusted": true
   },
   "outputs": [],
   "source": []
  }
 ],
 "metadata": {
  "kaggle": {
   "accelerator": "none",
   "dataSources": [
    {
     "databundleVersionId": 12585144,
     "sourceId": 104491,
     "sourceType": "competition"
    }
   ],
   "dockerImageVersionId": 31040,
   "isGpuEnabled": false,
   "isInternetEnabled": true,
   "language": "python",
   "sourceType": "notebook"
  },
  "kernelspec": {
   "display_name": "Python 3",
   "language": "python",
   "name": "python3"
  },
  "language_info": {
   "codemirror_mode": {
    "name": "ipython",
    "version": 3
   },
   "file_extension": ".py",
   "mimetype": "text/x-python",
   "name": "python",
   "nbconvert_exporter": "python",
   "pygments_lexer": "ipython3",
   "version": "3.11.11"
  }
 },
 "nbformat": 4,
 "nbformat_minor": 4
}
